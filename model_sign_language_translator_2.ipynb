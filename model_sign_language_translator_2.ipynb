{
  "nbformat": 4,
  "nbformat_minor": 0,
  "metadata": {
    "colab": {
      "provenance": []
    },
    "kernelspec": {
      "name": "python3",
      "display_name": "Python 3"
    },
    "language_info": {
      "name": "python"
    }
  },
  "cells": [
    {
      "cell_type": "code",
      "execution_count": 121,
      "metadata": {
        "id": "Fm_WS5SkanIP"
      },
      "outputs": [],
      "source": [
        "import numpy as np\n",
        "import pandas as pd\n",
        "import matplotlib.pyplot as plt\n",
        "import seaborn as sns"
      ]
    },
    {
      "cell_type": "code",
      "source": [
        "df = pd.read_excel(\"/content/ASL_alphabets.xlsx\", index_col=False)"
      ],
      "metadata": {
        "id": "EB0Xf3ywbAkk"
      },
      "execution_count": 122,
      "outputs": []
    },
    {
      "cell_type": "code",
      "source": [
        "# https://www.geeksforgeeks.org/how-to-drop-one-or-multiple-columns-in-pandas-dataframe/\n",
        "df = df.drop([0,1],axis=1)\n",
        "print(len(df))\n",
        "print(df.head())\n",
        "# [0,1,2,3,4] -> [A,Y,U,S,H]"
      ],
      "metadata": {
        "colab": {
          "base_uri": "https://localhost:8080/"
        },
        "id": "TW0X0JqVbEvI",
        "outputId": "bfe050f6-7f95-47d3-ec03-d43e19dc2a96"
      },
      "execution_count": 123,
      "outputs": [
        {
          "output_type": "stream",
          "name": "stdout",
          "text": [
            "1000\n",
            "   Unnamed: 0  class         2         3         4         5         6  \\\n",
            "0           0      0 -0.083955 -0.057687 -0.143967 -0.166604 -0.158132   \n",
            "1           1      0 -0.083900 -0.061100 -0.141032 -0.165363 -0.158884   \n",
            "2           2      0 -0.086185 -0.057912 -0.151771 -0.144644 -0.180921   \n",
            "3           3      0 -0.084918 -0.037873 -0.150861 -0.124648 -0.172609   \n",
            "4           4      0 -0.080348 -0.028174 -0.146617 -0.121466 -0.170870   \n",
            "\n",
            "          7         8         9  ...        32        33        34        35  \\\n",
            "0 -0.270313 -0.146678 -0.353363  ...  0.008286 -0.224137  0.067247 -0.265167   \n",
            "1 -0.270144 -0.152182 -0.352973  ...  0.000033 -0.222951  0.056077 -0.252391   \n",
            "2 -0.243660 -0.172599 -0.326726  ... -0.028672 -0.220826  0.027602 -0.257759   \n",
            "3 -0.227299 -0.169301 -0.307612  ... -0.027564 -0.208170  0.024663 -0.242198   \n",
            "4 -0.225190 -0.166369 -0.303471  ... -0.027546 -0.204892  0.024202 -0.238494   \n",
            "\n",
            "         36        37        38        39        40        41  \n",
            "0  0.064527 -0.321461  0.054204 -0.252515  0.051229 -0.222619  \n",
            "1  0.053019 -0.318152  0.041167 -0.252924  0.037451 -0.220153  \n",
            "2  0.024671 -0.321016  0.015170 -0.251215  0.013000 -0.224307  \n",
            "3  0.024185 -0.302602  0.018889 -0.233397  0.013695 -0.208750  \n",
            "4  0.024323 -0.299691  0.019614 -0.233342  0.013261 -0.208376  \n",
            "\n",
            "[5 rows x 42 columns]\n"
          ]
        }
      ]
    },
    {
      "cell_type": "code",
      "source": [
        "# the df has index for some reason and we need to remove it\n",
        "# df.drop('Unnamed: 0',axis=1)\n",
        "df = df.iloc[:,1:]\n",
        "print(df.head())"
      ],
      "metadata": {
        "colab": {
          "base_uri": "https://localhost:8080/"
        },
        "id": "8M7-T9Jt0M9A",
        "outputId": "3f3525e5-6b33-4d2a-8e9d-30ba8046eed3"
      },
      "execution_count": 124,
      "outputs": [
        {
          "output_type": "stream",
          "name": "stdout",
          "text": [
            "   class         2         3         4         5         6         7  \\\n",
            "0      0 -0.083955 -0.057687 -0.143967 -0.166604 -0.158132 -0.270313   \n",
            "1      0 -0.083900 -0.061100 -0.141032 -0.165363 -0.158884 -0.270144   \n",
            "2      0 -0.086185 -0.057912 -0.151771 -0.144644 -0.180921 -0.243660   \n",
            "3      0 -0.084918 -0.037873 -0.150861 -0.124648 -0.172609 -0.227299   \n",
            "4      0 -0.080348 -0.028174 -0.146617 -0.121466 -0.170870 -0.225190   \n",
            "\n",
            "          8         9        10  ...        32        33        34        35  \\\n",
            "0 -0.146678 -0.353363 -0.100944  ...  0.008286 -0.224137  0.067247 -0.265167   \n",
            "1 -0.152182 -0.352973 -0.100487  ...  0.000033 -0.222951  0.056077 -0.252391   \n",
            "2 -0.172599 -0.326726 -0.127894  ... -0.028672 -0.220826  0.027602 -0.257759   \n",
            "3 -0.169301 -0.307612 -0.124981  ... -0.027564 -0.208170  0.024663 -0.242198   \n",
            "4 -0.166369 -0.303471 -0.122225  ... -0.027546 -0.204892  0.024202 -0.238494   \n",
            "\n",
            "         36        37        38        39        40        41  \n",
            "0  0.064527 -0.321461  0.054204 -0.252515  0.051229 -0.222619  \n",
            "1  0.053019 -0.318152  0.041167 -0.252924  0.037451 -0.220153  \n",
            "2  0.024671 -0.321016  0.015170 -0.251215  0.013000 -0.224307  \n",
            "3  0.024185 -0.302602  0.018889 -0.233397  0.013695 -0.208750  \n",
            "4  0.024323 -0.299691  0.019614 -0.233342  0.013261 -0.208376  \n",
            "\n",
            "[5 rows x 41 columns]\n"
          ]
        }
      ]
    },
    {
      "cell_type": "code",
      "source": [
        "from sklearn.decomposition import PCA\n",
        "# https://scikit-learn.org/stable/modules/generated/sklearn.decomposition.PCA.html\n",
        "\n",
        "X = df\n",
        "X = X.drop([\"class\"],axis=1)#.reset_index(drop=True)\n",
        "print(X.head())\n",
        "\n",
        "X.columns = X.columns.astype(str)\n",
        "pca = PCA()\n",
        "pca_data = pca.fit_transform(X)\n",
        "pca_data"
      ],
      "metadata": {
        "colab": {
          "base_uri": "https://localhost:8080/"
        },
        "id": "ofIcrUaJbIZ4",
        "outputId": "41f32062-6235-47de-9f39-e558833cea93"
      },
      "execution_count": 125,
      "outputs": [
        {
          "output_type": "stream",
          "name": "stdout",
          "text": [
            "         2         3         4         5         6         7         8   \\\n",
            "0 -0.083955 -0.057687 -0.143967 -0.166604 -0.158132 -0.270313 -0.146678   \n",
            "1 -0.083900 -0.061100 -0.141032 -0.165363 -0.158884 -0.270144 -0.152182   \n",
            "2 -0.086185 -0.057912 -0.151771 -0.144644 -0.180921 -0.243660 -0.172599   \n",
            "3 -0.084918 -0.037873 -0.150861 -0.124648 -0.172609 -0.227299 -0.169301   \n",
            "4 -0.080348 -0.028174 -0.146617 -0.121466 -0.170870 -0.225190 -0.166369   \n",
            "\n",
            "         9         10        11  ...        32        33        34        35  \\\n",
            "0 -0.353363 -0.100944 -0.278426  ...  0.008286 -0.224137  0.067247 -0.265167   \n",
            "1 -0.352973 -0.100487 -0.272005  ...  0.000033 -0.222951  0.056077 -0.252391   \n",
            "2 -0.326726 -0.127894 -0.254771  ... -0.028672 -0.220826  0.027602 -0.257759   \n",
            "3 -0.307612 -0.124981 -0.237485  ... -0.027564 -0.208170  0.024663 -0.242198   \n",
            "4 -0.303471 -0.122225 -0.230068  ... -0.027546 -0.204892  0.024202 -0.238494   \n",
            "\n",
            "         36        37        38        39        40        41  \n",
            "0  0.064527 -0.321461  0.054204 -0.252515  0.051229 -0.222619  \n",
            "1  0.053019 -0.318152  0.041167 -0.252924  0.037451 -0.220153  \n",
            "2  0.024671 -0.321016  0.015170 -0.251215  0.013000 -0.224307  \n",
            "3  0.024185 -0.302602  0.018889 -0.233397  0.013695 -0.208750  \n",
            "4  0.024323 -0.299691  0.019614 -0.233342  0.013261 -0.208376  \n",
            "\n",
            "[5 rows x 40 columns]\n"
          ]
        },
        {
          "output_type": "execute_result",
          "data": {
            "text/plain": [
              "array([[-2.38564165e-01, -9.54846244e-02, -1.56708177e-01, ...,\n",
              "         5.88927302e-06,  1.97797189e-05,  1.80942234e-04],\n",
              "       [-2.53655597e-01, -1.23696752e-01, -1.44804715e-01, ...,\n",
              "        -1.06408734e-04, -2.27935160e-04,  5.34639706e-05],\n",
              "       [-2.89854120e-01, -2.26712335e-01, -1.55195661e-01, ...,\n",
              "        -5.96195058e-04,  4.37693176e-04,  7.33746828e-05],\n",
              "       ...,\n",
              "       [ 3.97314172e-01,  1.88813707e-03, -8.30351951e-02, ...,\n",
              "        -6.30112411e-05,  1.66207777e-04,  1.61636689e-05],\n",
              "       [ 3.98094875e-01,  4.10567675e-03, -8.82119557e-02, ...,\n",
              "         1.94769958e-04,  2.88443871e-04,  1.50121277e-06],\n",
              "       [ 3.97413671e-01,  1.12522706e-02, -7.30052219e-02, ...,\n",
              "        -1.37898694e-04,  6.27701660e-05,  8.21181979e-05]])"
            ]
          },
          "metadata": {},
          "execution_count": 125
        }
      ]
    },
    {
      "cell_type": "code",
      "source": [
        "print(pca_data)\n",
        "\n",
        "print(len(pca.explained_variance_ratio_))\n",
        "# print(pca.explained_variance_ratio_)\n",
        "\n",
        "plt.bar(range(1,len(pca.explained_variance_)+1),height=pca.explained_variance_ratio_)\n",
        "plt.xlabel('PCA Feature')\n",
        "plt.ylabel('Explained variance')\n",
        "plt.title('Feature Explained Variance')\n",
        "plt.show()\n",
        "\n",
        "# https://matplotlib.org/stable/api/_as_gen/matplotlib.pyplot.bar.html\n",
        "\n",
        "# As we can see , even 1 dimension in PCA plot can account for all the variance in the data\n",
        "\n",
        "df_pca = pd.DataFrame(data=pca_data[:,:2], columns=['PC1','PC2'])\n",
        "df_pca['class'] = df['class']\n",
        "\n",
        "print(df_pca.head())\n",
        "\n",
        "# # Plot using sns.kdeplot\n",
        "# sns.kdeplot(data=df_pca, x='PC1', hue='class')\n",
        "sns.scatterplot(data=df_pca,x=\"PC1\",y=\"PC2\",hue=\"class\",palette=\"deep\")\n",
        "\n",
        "# Show the plot\n",
        "plt.show()\n",
        "\n",
        "# As we can see from the kde plot of the PCA'ed data, the classes should be linearly separable"
      ],
      "metadata": {
        "colab": {
          "base_uri": "https://localhost:8080/",
          "height": 1000
        },
        "id": "DwIxo1gbch1h",
        "outputId": "85fc58b8-f30a-41dc-f110-d6d17f6f7fef"
      },
      "execution_count": 126,
      "outputs": [
        {
          "output_type": "stream",
          "name": "stdout",
          "text": [
            "[[-2.38564165e-01 -9.54846244e-02 -1.56708177e-01 ...  5.88927302e-06\n",
            "   1.97797189e-05  1.80942234e-04]\n",
            " [-2.53655597e-01 -1.23696752e-01 -1.44804715e-01 ... -1.06408734e-04\n",
            "  -2.27935160e-04  5.34639706e-05]\n",
            " [-2.89854120e-01 -2.26712335e-01 -1.55195661e-01 ... -5.96195058e-04\n",
            "   4.37693176e-04  7.33746828e-05]\n",
            " ...\n",
            " [ 3.97314172e-01  1.88813707e-03 -8.30351951e-02 ... -6.30112411e-05\n",
            "   1.66207777e-04  1.61636689e-05]\n",
            " [ 3.98094875e-01  4.10567675e-03 -8.82119557e-02 ...  1.94769958e-04\n",
            "   2.88443871e-04  1.50121277e-06]\n",
            " [ 3.97413671e-01  1.12522706e-02 -7.30052219e-02 ... -1.37898694e-04\n",
            "   6.27701660e-05  8.21181979e-05]]\n",
            "40\n"
          ]
        },
        {
          "output_type": "display_data",
          "data": {
            "text/plain": [
              "<Figure size 640x480 with 1 Axes>"
            ],
            "image/png": "[encoded data removed]"
          },
          "metadata": {}
        },
        {
          "output_type": "stream",
          "name": "stdout",
          "text": [
            "        PC1       PC2  class\n",
            "0 -0.238564 -0.095485      0\n",
            "1 -0.253656 -0.123697      0\n",
            "2 -0.289854 -0.226712      0\n",
            "3 -0.318213 -0.230614      0\n",
            "4 -0.321691 -0.230562      0\n"
          ]
        },
        {
          "output_type": "display_data",
          "data": {
            "text/plain": [
              "<Figure size 640x480 with 1 Axes>"
            ],
            "image/png": "[encoded data removed]"
          },
          "metadata": {}
        }
      ]
    },
    {
      "cell_type": "code",
      "source": [
        "from sklearn.linear_model import LogisticRegression\n",
        "from sklearn.model_selection import train_test_split\n",
        "\n",
        "y = df['class']\n",
        "# y = y.iloc[:,1:]\n",
        "print(y.head())\n",
        "X_train, X_test, y_train, y_test = train_test_split(X, y, test_size=0.2, random_state=42) #,shuffle=True\n",
        "\n",
        "# X_train = X_train.reset_index(drop=True)\n",
        "# y_train = y_train.reset_index(drop=True)\n",
        "# X_test = X_test.reset_index(drop=True)\n",
        "# y_test = y_test.reset_index(drop=True)\n",
        "\n",
        "print(y_test.head())\n",
        "\n",
        "clf = LogisticRegression(penalty=None,random_state=0, max_iter=4000).fit(X_train, y_train)\n",
        "\n",
        "print(clf.score(X_test, y_test))\n",
        "\n",
        "# https://scikit-learn.org/stable/modules/generated/sklearn.model_selection.train_test_split.html\n",
        "# https://scikit-learn.org/stable/modules/generated/sklearn.linear_model.LogisticRegression.html\n",
        "# As per the docs, logistic regression will automatically adjust to multi-class problem\n",
        "# Also regularization is automatically done, so I had to remove it\n",
        "# Bcoz in a problem like this, the variable distribution will not change much so it is actually good to overfit\n",
        "\n",
        "# We got 100% accuracy\n",
        "# logistic regression is working so well that I can be sure that data is linearly separable"
      ],
      "metadata": {
        "colab": {
          "base_uri": "https://localhost:8080/"
        },
        "id": "KYYIFfMedQye",
        "outputId": "0aed8161-3de4-400c-d1d6-49d9f9df3517"
      },
      "execution_count": 127,
      "outputs": [
        {
          "output_type": "stream",
          "name": "stdout",
          "text": [
            "0    0\n",
            "1    0\n",
            "2    0\n",
            "3    0\n",
            "4    0\n",
            "Name: class, dtype: int64\n",
            "521    2\n",
            "737    3\n",
            "740    3\n",
            "660    3\n",
            "411    2\n",
            "Name: class, dtype: int64\n",
            "1.0\n"
          ]
        }
      ]
    },
    {
      "cell_type": "code",
      "source": [
        "# The PCA plot was suggestive that the data may be gaussian\n",
        "# (which I think it should be since hand position distrbution is same for each alphabet)\n",
        "\n",
        "# https://pandas.pydata.org/pandas-docs/stable/reference/api/pandas.DataFrame.mean.html\n",
        "\n",
        "# to see a class mean\n",
        "# print(df.loc[df['class']==0].mean())\n",
        "\n",
        "for i in range(0,5):\n",
        "  print(df.loc[df['class']==i].mean().tolist())"
      ],
      "metadata": {
        "colab": {
          "base_uri": "https://localhost:8080/"
        },
        "id": "dx2LoZ4zoif2",
        "outputId": "c3f5e7ae-3133-4c0a-8497-6dd2c5aa379b"
      },
      "execution_count": 128,
      "outputs": [
        {
          "output_type": "stream",
          "name": "stdout",
          "text": [
            "[0.0, -0.07474212601780891, -0.0431456908583641, -0.12400060549378394, -0.13857888400554658, -0.1391511856019497, -0.23397291466593742, -0.13576779872179032, -0.30704155467450617, -0.09403851538896561, -0.22954849600791932, -0.09825520560145379, -0.30056981727480886, -0.09018444091081619, -0.2255919347703457, -0.08281404092907906, -0.190639261752367, -0.051667416989803316, -0.23708705291152, -0.05586740642786026, -0.30377587005496026, -0.053816703110933305, -0.2115647216141224, -0.050149403512477875, -0.1910230451822281, -0.007575704455375671, -0.234019705504179, -0.010493827611207962, -0.30251623436808583, -0.015133990794420243, -0.21544239580631255, -0.013848295360803604, -0.18879091516137123, 0.037870592176914214, -0.22238519221544265, 0.031362849175930026, -0.2804639020562172, 0.02113809287548065, -0.221747654825449, 0.019811767637729644, -0.19482029259204864]\n",
            "[1.0, -0.06988532483577728, -0.0695784392952919, -0.10177638247609139, -0.19462273985147477, -0.11659591041505336, -0.3030320896208286, -0.15474548250436782, -0.36645681455731394, -0.004105231463909149, -0.2829523867368698, 0.036329239308834076, -0.3468018507957458, 0.030634361207485198, -0.2684305553138256, 0.01722517728805542, -0.2042035061120987, 0.04979571402072906, -0.2681789319217205, 0.08853191360831261, -0.3404541800916195, 0.06811451941728591, -0.2481471787393093, 0.04628616988658905, -0.1824572503566742, 0.09501648277044296, -0.2425807647407055, 0.1318397991359234, -0.3089808204770088, 0.10687661200761794, -0.2353213720023632, 0.08085451319813729, -0.18027152732014656, 0.1307143761217594, -0.20993620842695238, 0.18012661889195442, -0.2894254192709923, 0.2127226234972477, -0.3329757168889046, 0.23908768460154534, -0.38225056797266005]\n",
            "[2.0, -0.05387806296348572, -0.06572277277708054, -0.06608499735593795, -0.17100832223892212, -0.02166170209646225, -0.24699612081050873, 0.02443588972091675, -0.285488478243351, -0.06190463602542877, -0.2832739716768265, -0.0622423106431961, -0.4015065771341324, -0.05827069818973541, -0.47625113859772683, -0.05342988193035126, -0.5393039385974407, -0.016729598045349122, -0.2824899211525917, -0.020153537690639496, -0.4099024772644043, -0.01979645848274231, -0.490636382997036, -0.01495338350534439, -0.5574186624586582, 0.027198221385478973, -0.25381936371326447, 0.024727240800857545, -0.3095869544148445, 0.0024276039004325865, -0.2395319539308548, -0.009403225779533387, -0.1847696489095688, 0.06422279238700866, -0.2079317733645439, 0.0533997717499733, -0.25130320370197295, 0.02604701280593872, -0.19671969443559648, 0.00931252121925354, -0.14750671058893203]\n",
            "[3.0, -0.05908229023218155, -0.04738905340433121, -0.092749462723732, -0.1309749135375023, -0.07338976323604583, -0.20622837647795678, -0.03293219953775406, -0.23890226148068905, -0.09024297058582306, -0.20119220688939093, -0.10233275532722473, -0.2692642351984978, -0.09197820782661438, -0.21878927387297153, -0.08145415455102921, -0.1853222019970417, -0.04857613921165466, -0.21287739902734756, -0.05513614356517792, -0.28405413940548896, -0.05094160109758377, -0.22973417393863202, -0.04645854741334915, -0.20212645471096038, -0.006020570695400238, -0.21263081327080727, -0.009427164196968079, -0.2767147096991539, -0.012579258680343628, -0.226794221252203, -0.01283116579055786, -0.2021825958788395, 0.03723597884178162, -0.20230237364768983, 0.03133391708135605, -0.2533623301237822, 0.023534131348133088, -0.21523480728268624, 0.021235769391059877, -0.1883329454064369]\n",
            "[4.0, -0.04359712138772011, -0.07584065347909927, -0.0311322683095932, -0.19092928007245064, 0.01864173501729965, -0.26165098398923875, 0.058979621976614, -0.3046345120668411, 0.006719292253255844, -0.25402470991015436, 0.03618919134140015, -0.3616499634087086, 0.060635415017604825, -0.42780080109834673, 0.0845454102754593, -0.48231582999229433, 0.04629799157381058, -0.23365405425429345, 0.07668589368462563, -0.35095252946019173, 0.09992716148495674, -0.4241746015101671, 0.12451086044311524, -0.4832889302074909, 0.08133260652422905, -0.19347498714923858, 0.08476168066263198, -0.2619226694107056, 0.050174227207899096, -0.1942438106238842, 0.030121835619211196, -0.13752673745155333, 0.11013815864920616, -0.14287336751818658, 0.1031722842156887, -0.1977728572487831, 0.07144496992230415, -0.1498911990225315, 0.05273885428905487, -0.10614281207323074]\n"
          ]
        }
      ]
    },
    {
      "cell_type": "code",
      "source": [
        "from sklearn.mixture import GaussianMixture\n",
        "gm = GaussianMixture(n_components=5, random_state=0).fit(X_train)\n",
        "print(gm.means_)\n",
        "print(gm.covariances_)\n",
        "\n",
        "print()"
      ],
      "metadata": {
        "colab": {
          "base_uri": "https://localhost:8080/"
        },
        "id": "n79DKQAnqjBX",
        "outputId": "bc51d120-cace-4d47-dba5-923706cd3ad1"
      },
      "execution_count": 129,
      "outputs": [
        {
          "output_type": "stream",
          "name": "stdout",
          "text": [
            "[[-5.92778676e-02 -4.68054627e-02 -9.34450293e-02 -1.30421090e-01\n",
            "  -7.50045155e-02 -2.06132192e-01 -3.53100054e-02 -2.39613315e-01\n",
            "  -9.03532894e-02 -2.01680599e-01 -1.01634416e-01 -2.68574840e-01\n",
            "  -9.12832917e-02 -2.17065395e-01 -8.13257245e-02 -1.84463197e-01\n",
            "  -4.85514903e-02 -2.13418656e-01 -5.44871359e-02 -2.82896177e-01\n",
            "  -5.03326414e-02 -2.26872549e-01 -4.64267360e-02 -2.00509908e-01\n",
            "  -5.84724261e-03 -2.13155669e-01 -8.66648541e-03 -2.75857503e-01\n",
            "  -1.18495583e-02 -2.24452350e-01 -1.25549537e-02 -2.00656875e-01\n",
            "   3.74421249e-02 -2.02834418e-01  3.21731780e-02 -2.52794494e-01\n",
            "   2.43499783e-02 -2.13821550e-01  2.16884493e-02 -1.87629527e-01]\n",
            " [-4.89205544e-02 -7.09390085e-02 -4.92248704e-02 -1.81215074e-01\n",
            "  -2.32852365e-03 -2.54872189e-01  4.09936837e-02 -2.95552428e-01\n",
            "  -2.83371034e-02 -2.69384175e-01 -1.42014030e-02 -3.82502562e-01\n",
            "  -2.93333329e-04 -4.53039283e-01  1.38207085e-02 -5.11898168e-01\n",
            "   1.41099403e-02 -2.58979814e-01  2.71131839e-02 -3.81593764e-01\n",
            "   3.85333513e-02 -4.58601449e-01  5.29655699e-02 -5.21578294e-01\n",
            "   5.37359736e-02 -2.24596465e-01  5.39364756e-02 -2.86729999e-01\n",
            "   2.55255776e-02 -2.17860139e-01  9.70551213e-03 -1.62111902e-01\n",
            "   8.67845772e-02 -1.76249102e-01  7.76686337e-02 -2.25476382e-01\n",
            "   4.80626477e-02 -1.74335770e-01  3.03358280e-02 -1.27834840e-01]\n",
            " [-7.47998728e-02 -4.37797871e-02 -1.23963460e-01 -1.39397565e-01\n",
            "  -1.39291434e-01 -2.34781712e-01 -1.36311416e-01 -3.08212332e-01\n",
            "  -9.39509553e-02 -2.29165097e-01 -9.88923457e-02 -3.01720044e-01\n",
            "  -9.07802799e-02 -2.26885324e-01 -8.28896076e-02 -1.91048337e-01\n",
            "  -5.18108561e-02 -2.36519913e-01 -5.67510002e-02 -3.04856052e-01\n",
            "  -5.45444154e-02 -2.12867562e-01 -5.02233571e-02 -1.91400514e-01\n",
            "  -7.89839743e-03 -2.33515049e-01 -1.15971071e-02 -3.03669928e-01\n",
            "  -1.60919953e-02 -2.16667138e-01 -1.41893216e-02 -1.89267683e-01\n",
            "   3.75225797e-02 -2.22019183e-01  3.02045425e-02 -2.81605217e-01\n",
            "   2.00593467e-02 -2.22980239e-01  1.93341005e-02 -1.95391541e-01]\n",
            " [-7.44657179e-02 -6.37362145e-02 -1.14848050e-01 -1.88317311e-01\n",
            "  -1.36550696e-01 -2.97801620e-01 -1.79183659e-01 -3.56576116e-01\n",
            "  -1.73240410e-02 -2.87584536e-01  2.40113594e-02 -3.56535977e-01\n",
            "   2.36782736e-02 -2.76349257e-01  1.24354133e-02 -2.11534018e-01\n",
            "   3.90935595e-02 -2.77356123e-01  7.87432930e-02 -3.54782418e-01\n",
            "   6.37192003e-02 -2.59049655e-01  4.34955422e-02 -1.92680806e-01\n",
            "   8.66283202e-02 -2.55661385e-01  1.23261303e-01 -3.26712976e-01\n",
            "   1.03190284e-01 -2.49529514e-01  7.93051143e-02 -1.93271369e-01\n",
            "   1.23928736e-01 -2.25468228e-01  1.71118623e-01 -3.10094770e-01\n",
            "   2.02944480e-01 -3.55000795e-01  2.27389443e-01 -4.06578158e-01]\n",
            " [-6.64568618e-02 -7.41261350e-02 -9.16513787e-02 -1.99619523e-01\n",
            "  -1.01183601e-01 -3.07334672e-01 -1.36105512e-01 -3.74125235e-01\n",
            "   5.77627719e-03 -2.79475489e-01  4.50345813e-02 -3.39336030e-01\n",
            "   3.52144521e-02 -2.62209673e-01  2.01299639e-02 -1.98323907e-01\n",
            "   5.78689846e-02 -2.61390488e-01  9.54520030e-02 -3.29651710e-01\n",
            "   7.08426654e-02 -2.39895013e-01  4.77671877e-02 -1.74649014e-01\n",
            "   1.01377752e-01 -2.32941062e-01  1.37945728e-01 -2.95613914e-01\n",
            "   1.09063699e-01 -2.24532549e-01  8.12721369e-02 -1.70241332e-01\n",
            "   1.35896212e-01 -1.98596242e-01  1.86854210e-01 -2.74232031e-01\n",
            "   2.19916652e-01 -3.16972906e-01  2.47587641e-01 -3.64740342e-01]]\n",
            "[[[ 1.68498029e-05  6.90010612e-06  2.21177794e-05 ...  2.37743132e-05\n",
            "    1.02406166e-05  1.47848760e-05]\n",
            "  [ 6.90010612e-06  4.33921937e-05 -9.67197143e-06 ...  6.33314430e-05\n",
            "    1.66503646e-06  3.88358867e-05]\n",
            "  [ 2.21177794e-05 -9.67197143e-06  5.64228562e-05 ... -2.32208798e-05\n",
            "    2.81070506e-05 -1.78450340e-05]\n",
            "  ...\n",
            "  [ 2.37743132e-05  6.33314430e-05 -2.32208798e-05 ...  2.13656527e-04\n",
            "    1.58103794e-06  1.37338345e-04]\n",
            "  [ 1.02406166e-05  1.66503646e-06  2.81070506e-05 ...  1.58103794e-06\n",
            "    4.74274081e-05 -1.15908064e-05]\n",
            "  [ 1.47848760e-05  3.88358867e-05 -1.78450340e-05 ...  1.37338345e-04\n",
            "   -1.15908064e-05  9.80989962e-05]]\n",
            "\n",
            " [[ 6.50827331e-05 -2.86828525e-05  1.78585299e-04 ...  2.20319376e-04\n",
            "    1.57783621e-04  1.86248021e-04]\n",
            "  [-2.86828525e-05  1.47791811e-04 -1.28353743e-04 ...  8.76625501e-05\n",
            "   -1.47388868e-04  9.36667967e-05]\n",
            "  [ 1.78585299e-04 -1.28353743e-04  5.41898536e-04 ...  5.98344664e-04\n",
            "    5.06840966e-04  5.07510760e-04]\n",
            "  ...\n",
            "  [ 2.20319376e-04  8.76625501e-05  5.98344664e-04 ...  1.37583206e-03\n",
            "    5.31728122e-04  1.22371224e-03]\n",
            "  [ 1.57783621e-04 -1.47388868e-04  5.06840966e-04 ...  5.31728122e-04\n",
            "    5.86991899e-04  4.59862665e-04]\n",
            "  [ 1.86248021e-04  9.36667967e-05  5.07510760e-04 ...  1.22371224e-03\n",
            "    4.59862665e-04  1.10098622e-03]]\n",
            "\n",
            " [[ 8.64940498e-05 -8.21510847e-06  1.37993788e-04 ...  1.51829349e-04\n",
            "    5.92433592e-05  8.76334138e-05]\n",
            "  [-8.21510847e-06  6.17066813e-05 -4.67849825e-05 ... -9.68417962e-06\n",
            "   -2.44506807e-05 -1.31720179e-05]\n",
            "  [ 1.37993788e-04 -4.67849825e-05  2.52920775e-04 ...  2.51751463e-04\n",
            "    9.57826516e-05  1.60423872e-04]\n",
            "  ...\n",
            "  [ 1.51829349e-04 -9.68417962e-06  2.51751463e-04 ...  3.60703976e-04\n",
            "    9.67122119e-05  2.29660542e-04]\n",
            "  [ 5.92433592e-05 -2.44506807e-05  9.57826516e-05 ...  9.67122119e-05\n",
            "    9.12888578e-05  4.33556449e-05]\n",
            "  [ 8.76334138e-05 -1.31720179e-05  1.60423872e-04 ...  2.29660542e-04\n",
            "    4.33556449e-05  1.70857363e-04]]\n",
            "\n",
            " [[ 1.29518166e-05 -7.96547545e-06  1.79804745e-05 ...  3.34094271e-05\n",
            "    1.15565293e-05  4.16709733e-05]\n",
            "  [-7.96547545e-06  1.32998990e-05 -1.03542733e-05 ... -1.89942679e-05\n",
            "   -1.06663703e-05 -2.50014184e-05]\n",
            "  [ 1.79804745e-05 -1.03542733e-05  3.57872169e-05 ...  6.68474162e-05\n",
            "   -1.78135773e-05  8.00084203e-05]\n",
            "  ...\n",
            "  [ 3.34094271e-05 -1.89942679e-05  6.68474162e-05 ...  1.44655097e-04\n",
            "   -3.94245858e-05  1.72113165e-04]\n",
            "  [ 1.15565293e-05 -1.06663703e-05 -1.78135773e-05 ... -3.94245858e-05\n",
            "    7.09694198e-04 -5.44460505e-05]\n",
            "  [ 4.16709733e-05 -2.50014184e-05  8.00084203e-05 ...  1.72113165e-04\n",
            "   -5.44460505e-05  2.12521949e-04]]\n",
            "\n",
            " [[ 1.47173038e-05 -2.17686128e-05  4.02118962e-05 ...  8.41990497e-06\n",
            "    3.44954317e-06  4.69785441e-06]\n",
            "  [-2.17686128e-05  7.92567300e-05 -8.84966541e-05 ...  1.71987403e-05\n",
            "   -5.55398768e-05  5.32151872e-05]\n",
            "  [ 4.02118962e-05 -8.84966541e-05  1.38975152e-04 ...  8.14003796e-06\n",
            "    3.82439097e-05 -2.36044547e-05]\n",
            "  ...\n",
            "  [ 8.41990497e-06  1.71987403e-05  8.14003796e-06 ...  1.41180066e-04\n",
            "   -8.27489762e-05  2.15971981e-04]\n",
            "  [ 3.44954317e-06 -5.55398768e-05  3.82439097e-05 ... -8.27489762e-05\n",
            "    2.36123681e-04 -1.77647250e-04]\n",
            "  [ 4.69785441e-06  5.32151872e-05 -2.36044547e-05 ...  2.15971981e-04\n",
            "   -1.77647250e-04  3.57310811e-04]]]\n",
            "\n"
          ]
        }
      ]
    },
    {
      "cell_type": "code",
      "source": [
        "# oh right , since there was no y_train in the GMM training so the indices could be in any order\n",
        "# and whenever we retrain it, it could be in any fucking order, so need to make a general algorithm to detect alphabets\n",
        "\n",
        "# My idea - if it is predicting with probablity > 0.99 then we can assign it to the one whose mean it is closest to\n",
        "\n",
        "cluster_means = []\n",
        "for i in range(0,5):\n",
        "  cluster_means.append(df.loc[df['class']==i].mean().drop('class').values)\n",
        "\n",
        "cluster_means = np.array(cluster_means)\n",
        "\n",
        "\n",
        "# print(np.max(gm.predict_proba(X_test),axis=1))\n",
        "\n",
        "# if(np.max(gm.predict_proba(X_test),axis=1)>0.99):\n",
        "#   for i in range(0,len(cluster_means)):\n",
        "\n",
        "# print(y_test.tolist())"
      ],
      "metadata": {
        "id": "7Hj4T2FQz_KC"
      },
      "execution_count": 130,
      "outputs": []
    },
    {
      "cell_type": "code",
      "source": [
        "# Whole heartedly thanking chatgpt for the code in this cell,\n",
        "# done perfectly as per my description without any mistakes in first time\n",
        "\n",
        "from sklearn.metrics import accuracy_score\n",
        "\n",
        "# Predict probabilities for the test set\n",
        "probabilities = gm.predict_proba(X_test)\n",
        "\n",
        "# Initialize an array to store the predicted cluster assignments\n",
        "predicted_clusters = np.empty(X_test.shape[0])\n",
        "\n",
        "# Iterate over each test sample\n",
        "for idx, sample in enumerate(X_test.values):\n",
        "    if np.max(probabilities[idx]) > 0.99:\n",
        "        # Find the closest cluster mean by Euclidean distance\n",
        "        distances = np.linalg.norm(cluster_means - sample, axis=1)\n",
        "        closest_cluster = np.argmin(distances)\n",
        "        predicted_clusters[idx] = closest_cluster\n",
        "    else:\n",
        "        # Assign -1 for samples that do not meet the threshold\n",
        "        predicted_clusters[idx] = -1\n",
        "\n",
        "# Create a DataFrame for y_test and predicted_clusters to align indices\n",
        "y_test = y_test.reset_index(drop=True)\n",
        "predicted_clusters = pd.Series(predicted_clusters)\n",
        "\n",
        "# Filter out the samples that were not assigned a cluster (-1)\n",
        "filtered_predictions = predicted_clusters[predicted_clusters != -1]\n",
        "filtered_y_test = y_test[predicted_clusters != -1]\n",
        "\n",
        "# Calculate accuracy\n",
        "accuracy = accuracy_score(filtered_y_test, filtered_predictions)\n",
        "print(f\"Accuracy: {accuracy}\")"
      ],
      "metadata": {
        "colab": {
          "base_uri": "https://localhost:8080/"
        },
        "id": "WLIYlZAB6cML",
        "outputId": "2fef2f2d-38ac-413e-d47b-3964779bbfe6"
      },
      "execution_count": 131,
      "outputs": [
        {
          "output_type": "stream",
          "name": "stdout",
          "text": [
            "Accuracy: 0.964824120603015\n"
          ]
        }
      ]
    },
    {
      "cell_type": "code",
      "source": [
        "print(predicted_clusters)"
      ],
      "metadata": {
        "colab": {
          "base_uri": "https://localhost:8080/"
        },
        "id": "WnCNxNt3nbAW",
        "outputId": "84245aa2-7d0a-470a-b7d6-472de2a3fd1b"
      },
      "execution_count": 132,
      "outputs": [
        {
          "output_type": "stream",
          "name": "stdout",
          "text": [
            "0      2.0\n",
            "1      3.0\n",
            "2      3.0\n",
            "3      3.0\n",
            "4      2.0\n",
            "      ... \n",
            "195    2.0\n",
            "196    1.0\n",
            "197    1.0\n",
            "198    3.0\n",
            "199    0.0\n",
            "Length: 200, dtype: float64\n"
          ]
        }
      ]
    },
    {
      "cell_type": "code",
      "source": [
        "# pip install joblib"
      ],
      "metadata": {
        "colab": {
          "base_uri": "https://localhost:8080/"
        },
        "id": "dqxXHm1cpzIs",
        "outputId": "4e0b5f71-6993-454f-894d-3a33d6378f64"
      },
      "execution_count": 134,
      "outputs": [
        {
          "output_type": "stream",
          "name": "stdout",
          "text": [
            "Requirement already satisfied: joblib in /usr/local/lib/python3.10/dist-packages (1.4.2)\n"
          ]
        }
      ]
    },
    {
      "cell_type": "code",
      "source": [
        "import joblib\n",
        "\n",
        "# Training the final GMM model on the whole dataset\n",
        "gm = GaussianMixture(n_components=5, random_state=0).fit(X)\n",
        "\n",
        "# Save the model to a file\n",
        "joblib.dump(gm, 'gmm_model.pkl')"
      ],
      "metadata": {
        "colab": {
          "base_uri": "https://localhost:8080/"
        },
        "id": "CH9PQYaxnnnp",
        "outputId": "a71f07d3-5cc4-479c-9e7a-7df3ad7d6bd6"
      },
      "execution_count": 136,
      "outputs": [
        {
          "output_type": "execute_result",
          "data": {
            "text/plain": [
              "['gmm_model.pkl']"
            ]
          },
          "metadata": {},
          "execution_count": 136
        }
      ]
    },
    {
      "cell_type": "code",
      "source": [
        "# Load the model from the file\n",
        "gm_loaded = joblib.load('gmm_model.pkl')\n"
      ],
      "metadata": {
        "id": "NXUmc7M1px-r"
      },
      "execution_count": 138,
      "outputs": []
    },
    {
      "cell_type": "code",
      "source": [
        "# print(gm_loaded.means_)\n",
        "# print()\n",
        "# print(cluster_means)\n",
        "\n",
        "# Map each GMM component to the closest cluster mean\n",
        "gmm_to_cluster_map = []\n",
        "for gmm_mean in gm_loaded.means_:\n",
        "    distances = np.linalg.norm(cluster_means - gmm_mean, axis=1)\n",
        "    closest_cluster = np.argmin(distances)\n",
        "    gmm_to_cluster_map.append(closest_cluster)\n",
        "\n",
        "print(\"GMM to Cluster Map:\", gmm_to_cluster_map)"
      ],
      "metadata": {
        "colab": {
          "base_uri": "https://localhost:8080/"
        },
        "id": "YtCu733mq_m_",
        "outputId": "0bf5bda6-0060-4f75-f4a7-cfb993af97f8"
      },
      "execution_count": 141,
      "outputs": [
        {
          "output_type": "stream",
          "name": "stdout",
          "text": [
            "GMM to Cluster Map: [0, 4, 1, 2, 2]\n"
          ]
        }
      ]
    },
    {
      "cell_type": "code",
      "source": [],
      "metadata": {
        "id": "Agnw8OCbrHqk"
      },
      "execution_count": null,
      "outputs": []
    }
  ]
}